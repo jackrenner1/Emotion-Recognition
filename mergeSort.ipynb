{
  "nbformat": 4,
  "nbformat_minor": 0,
  "metadata": {
    "colab": {
      "provenance": [],
      "authorship_tag": "ABX9TyNGCLo2V/fbYLoJv76gFrYA"
    },
    "kernelspec": {
      "name": "python3",
      "display_name": "Python 3"
    },
    "language_info": {
      "name": "python"
    }
  },
  "cells": [
    {
      "cell_type": "code",
      "execution_count": 22,
      "metadata": {
        "id": "OOqgXk87sj85"
      },
      "outputs": [],
      "source": [
        "\n",
        "def mergeSort(arr):\n",
        "  if len(arr) > 1:\n",
        "    midp = len(arr) // 2\n",
        "\n",
        "    left = arr[0: midp]\n",
        "    right = arr[midp: len(arr)]\n",
        "\n",
        "    left = mergeSort(left)\n",
        "    right = mergeSort(right)\n",
        "    return merge(left, right)\n",
        "\n",
        "  return arr\n",
        "\n",
        "\n",
        "def merge(left, right):\n",
        "  merge = []\n",
        "\n",
        "  l, r = 0, 0\n",
        "  while l < len(left) and r < len(right):\n",
        "    if left[l] <= right[r]:\n",
        "      merge.append(left[l])\n",
        "      l += 1\n",
        "    else:\n",
        "      merge.append(right[r])\n",
        "      r += 1\n",
        "\n",
        "  if l < len(left):\n",
        "    merge += left[l:]\n",
        "\n",
        "  if r < len(right):\n",
        "    merge += right[r:]\n",
        "\n",
        "  return merge\n",
        "\n",
        "\n",
        "\n"
      ]
    },
    {
      "cell_type": "code",
      "source": [
        "import unittest\n",
        "\n",
        "class TestSort(unittest.TestCase):\n",
        "\n",
        "    def testSortEmpty(self):\n",
        "        test = []\n",
        "        expected = []\n",
        "\n",
        "        message = \"Expected value and value returned are different!\"\n",
        "\n",
        "        self.assertEqual(expected, mergeSort(test), message)\n",
        "\n",
        "    def testSortOneElement(self):\n",
        "        test = [1]\n",
        "        expected = [1]\n",
        "\n",
        "        message = \"Expected value and value returned are different!\"\n",
        "\n",
        "        self.assertEqual(expected, mergeSort(test), message)\n",
        "\n",
        "    def testSortSortedAscending(self):\n",
        "        test = [1, 2, 3, 4, 5, 6, 7]\n",
        "        expected = [1, 2, 3, 4, 5, 6, 7]\n",
        "\n",
        "        message = \"Expected value and value returned are different!\"\n",
        "\n",
        "        self.assertEqual(expected, mergeSort(test), message)\n",
        "\n",
        "    def testSortSortedAscending(self):\n",
        "          test = [7, 6, 5, 4, 3, 2, 1]\n",
        "          expected = [1, 2, 3, 4, 5, 6, 7]\n",
        "\n",
        "          message = \"Expected value and value returned are different!\"\n",
        "\n",
        "          self.assertEqual(expected, mergeSort(test), message)\n",
        "\n",
        "    def testSortDuplicates(self):\n",
        "          test = [1, 2, 2, 4, 5, 1, 9]\n",
        "          expected = [1, 1, 2, 2, 4, 5, 9]\n",
        "\n",
        "          message = \"Expected value and value returned are different!\"\n",
        "\n",
        "          self.assertEqual(expected, mergeSort(test), message)\n",
        "\n",
        "    def testSortAllDuplicates(self):\n",
        "          test = [0, 0, 0, 0]\n",
        "          expected = [0, 0, 0, 0]\n",
        "\n",
        "          message = \"Expected value and value returned are different!\"\n",
        "\n",
        "          self.assertEqual(expected, mergeSort(test), message)\n",
        "\n",
        "    def testSortTypical(self):\n",
        "          test = [99, 0, -3, 5, 423, 2, 5]\n",
        "          expected = [-3, 0, 2, 5, 5, 99, 423]\n",
        "\n",
        "          message = \"Expected value and value returned are different!\"\n",
        "\n",
        "          self.assertEqual(expected, mergeSort(test), message)\n",
        "\n",
        "\n",
        "if __name__ == '__main__':\n",
        "    # this looks weird, but we must do this when running unittest inside a jupyter notebook\n",
        "    unittest.main(argv=['first-arg-is-ignored'], exit=False)"
      ],
      "metadata": {
        "colab": {
          "base_uri": "https://localhost:8080/"
        },
        "id": "nALdS7gk6XS2",
        "outputId": "476caaf1-c1c3-4008-c990-b070af0df7a6"
      },
      "execution_count": 23,
      "outputs": [
        {
          "output_type": "stream",
          "name": "stderr",
          "text": [
            "......\n",
            "----------------------------------------------------------------------\n",
            "Ran 6 tests in 0.012s\n",
            "\n",
            "OK\n"
          ]
        }
      ]
    },
    {
      "cell_type": "code",
      "source": [
        "import time\n",
        "import random\n",
        "\n",
        "# array of size 1000 using random numbers\n",
        "timeTest = [random.randint(-500,500) for i in range(1000)]\n",
        "\n",
        "startTime = time.time()\n",
        "sortedList = mergeSort(timeTest)\n",
        "endTime = time.time()\n",
        "\n",
        "time = endTime - startTime\n",
        "\n",
        "print(\"Merge sort took \" + str(time) + \" seconds.\")\n",
        "\n"
      ],
      "metadata": {
        "colab": {
          "base_uri": "https://localhost:8080/"
        },
        "id": "stGN1vJozZif",
        "outputId": "24dbea62-dc54-45f9-95f6-f70d7c424868"
      },
      "execution_count": 24,
      "outputs": [
        {
          "output_type": "stream",
          "name": "stdout",
          "text": [
            "Merge sort took 0.014474630355834961 seconds.\n"
          ]
        }
      ]
    }
  ]
}